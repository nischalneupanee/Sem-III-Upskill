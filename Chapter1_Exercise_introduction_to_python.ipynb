{
 "cells": [
  {
   "cell_type": "markdown",
   "metadata": {},
   "source": [
    "### Utilize all the concepts you learned from chapter 1. \n",
    "#### Feel free to edit and add the tasks. "
   ]
  },
  {
   "cell_type": "markdown",
   "metadata": {},
   "source": [
    "##### Q1. Write a code demonstrating the sum of two numbers. "
   ]
  },
  {
   "cell_type": "code",
   "execution_count": 1,
   "metadata": {},
   "outputs": [
    {
     "name": "stdout",
     "output_type": "stream",
     "text": [
      "100\n"
     ]
    }
   ],
   "source": [
    "# Write your code here.\n",
    "a = int(input(\"Enter a number: \"))\n",
    "b = int(input(\"Enter another number\"))\n",
    "\n",
    "print(a+b)"
   ]
  },
  {
   "cell_type": "markdown",
   "metadata": {},
   "source": [
    "##### Q2. Define few variables and print their types."
   ]
  },
  {
   "cell_type": "code",
   "execution_count": 2,
   "metadata": {},
   "outputs": [
    {
     "name": "stdout",
     "output_type": "stream",
     "text": [
      "<class 'str'> <class 'int'> <class 'float'> <class 'bool'>\n"
     ]
    }
   ],
   "source": [
    "# Write your code here.\n",
    "a = \"nischal\"\n",
    "b = 34\n",
    "c = 3.4\n",
    "d = True\n",
    "\n",
    "print(type(a),type(b),type(c),type(d))"
   ]
  },
  {
   "cell_type": "markdown",
   "metadata": {},
   "source": [
    "##### Q3. Write a code defining a list and accessing it's elements. "
   ]
  },
  {
   "cell_type": "code",
   "execution_count": 4,
   "metadata": {},
   "outputs": [
    {
     "name": "stdout",
     "output_type": "stream",
     "text": [
      "nischa\n",
      "34\n",
      "3.4\n"
     ]
    }
   ],
   "source": [
    "# Write your code here.\n",
    "lst = [\"nischal\",34,\"Hover\",3.4]\n",
    "\n",
    "print(lst[0])\n",
    "print(lst[1])\n",
    "print(lst[3])"
   ]
  },
  {
   "cell_type": "markdown",
   "metadata": {},
   "source": [
    "##### Q5. Write a code to convert a string to an integer. ( Hint: Take a number as an input )"
   ]
  },
  {
   "cell_type": "code",
   "execution_count": 6,
   "metadata": {},
   "outputs": [
    {
     "name": "stdout",
     "output_type": "stream",
     "text": [
      "<class 'str'>\n",
      "45 <class 'int'>\n"
     ]
    }
   ],
   "source": [
    "# Write your code here.\n",
    "a = input(\"Enter a number: \")\n",
    "print(type(a))\n",
    "a = int(a)\n",
    "print(a,type(a))"
   ]
  },
  {
   "cell_type": "markdown",
   "metadata": {},
   "source": [
    "##### Q6. Take two string inputs, and concatenate them."
   ]
  },
  {
   "cell_type": "code",
   "execution_count": null,
   "metadata": {},
   "outputs": [
    {
     "name": "stdout",
     "output_type": "stream",
     "text": [
      "nischal how are you\n"
     ]
    }
   ],
   "source": [
    "# Write your code here.\n",
    "a = input(\"Enter first string: \")\n",
    "b = input(\"Enter second: \")\n",
    "print(a+b)\n",
    "# print(f\"{a} {b}\")\n"
   ]
  },
  {
   "cell_type": "markdown",
   "metadata": {},
   "source": [
    "##### Q7. Create dictionary defining an object and access its values."
   ]
  },
  {
   "cell_type": "code",
   "execution_count": 9,
   "metadata": {},
   "outputs": [
    {
     "name": "stdout",
     "output_type": "stream",
     "text": [
      "Nischal Neupane\n"
     ]
    }
   ],
   "source": [
    "# Write your code here.\n",
    "person = {\"name\":\"Nischal Neupane\", \"profession\":\"Student\",\"age\":19,\"language\":\"Python\"}\n",
    "print(person[\"name\"])"
   ]
  },
  {
   "cell_type": "markdown",
   "metadata": {},
   "source": [
    "##### Q8. Write a code that demonstrates the use of floating point numbers and arithmetic operations."
   ]
  },
  {
   "cell_type": "code",
   "execution_count": 11,
   "metadata": {},
   "outputs": [
    {
     "name": "stdout",
     "output_type": "stream",
     "text": [
      "Addition: 7.7\n",
      "Subtraction: 3.3\n",
      "Multiplication: 12.100000000000001\n",
      "Division: 2.5\n",
      "Floor Division: 2.0\n",
      "Modulus: 1.0999999999999996\n",
      "Exponentiation: 42.540042248725975\n"
     ]
    }
   ],
   "source": [
    "# Write your code here.\n",
    "num1 = 5.5\n",
    "num2 = 2.2\n",
    "\n",
    "# Addition\n",
    "addition = num1 + num2\n",
    "print(f\"Addition: {addition}\")\n",
    "\n",
    "# Subtraction\n",
    "subtraction = num1 - num2\n",
    "print(f\"Subtraction: {subtraction}\")\n",
    "\n",
    "# Multiplication\n",
    "multiplication = num1 * num2\n",
    "print(f\"Multiplication: {multiplication}\")\n",
    "\n",
    "# Division\n",
    "division = num1 / num2\n",
    "print(f\"Division: {division}\")\n",
    "\n",
    "# Floor Division\n",
    "floor_division = num1 // num2\n",
    "print(f\"Floor Division: {floor_division}\")\n",
    "\n",
    "# Modulus\n",
    "modulus = num1 % num2\n",
    "print(f\"Modulus: {modulus}\")\n",
    "\n",
    "# Exponentiation\n",
    "exponentiation = num1 ** num2\n",
    "print(f\"Exponentiation: {exponentiation}\")\n"
   ]
  },
  {
   "cell_type": "markdown",
   "metadata": {},
   "source": [
    "#### Q9. Write a code to demonstrate the difference between mutable and immutable types."
   ]
  },
  {
   "cell_type": "code",
   "execution_count": 10,
   "metadata": {},
   "outputs": [
    {
     "name": "stdout",
     "output_type": "stream",
     "text": [
      "Mutable types demonstration:\n",
      "Original list: ['nischa', 34, 'Hover', 3.4]\n",
      "Modified list: ['updated', 34, 'Hover', 3.4]\n",
      "\n",
      "Original dictionary: {'name': 'Nischal Neupane', 'profession': 'Student', 'age': 19, 'language': 'Python'}\n",
      "Modified dictionary: {'name': 'Nischal Neupane', 'profession': 'Student', 'age': 20, 'language': 'Python'}\n",
      "\n",
      "Immutable types demonstration:\n",
      "Original string: nischal\n",
      "New string: nischal modified\n",
      "Original string still: nischal\n",
      "\n",
      "Original float: 3.4\n",
      "New float: 4.4\n",
      "Original float still: 3.4\n"
     ]
    }
   ],
   "source": [
    "# Write your code here.\n",
    "# Demonstrate mutable types (list, dictionary)\n",
    "print(\"Mutable types demonstration:\")\n",
    "print(\"Original list:\", lst)\n",
    "lst[0] = \"updated\"  # Lists can be modified\n",
    "print(\"Modified list:\", lst)\n",
    "\n",
    "print(\"\\nOriginal dictionary:\", person)\n",
    "person[\"age\"] = 20  # Dictionaries can be modified\n",
    "print(\"Modified dictionary:\", person)\n",
    "\n",
    "# Demonstrate immutable types (string, integer, tuple)\n",
    "print(\"\\nImmutable types demonstration:\")\n",
    "\n",
    "# String example\n",
    "print(\"Original string:\", a)\n",
    "new_a = a + \" modified\"  \n",
    "print(\"New string:\", new_a)\n",
    "print(\"Original string still:\", a)\n",
    "\n",
    "# Tuple example\n",
    "original_tuple = (1, 2, 3)\n",
    "print(\"\\nOriginal tuple:\", original_tuple)\n",
    "try:\n",
    "    original_tuple[0] = 4  # This will raise an error\n",
    "except TypeError as e:\n",
    "    print(\"Cannot modify tuple:\", e)\n",
    "\n",
    "# Integer example\n",
    "original_int = 5\n",
    "print(\"\\nOriginal integer:\", original_int)\n",
    "new_int = original_int + 1\n",
    "print(\"New integer:\", new_int)\n",
    "print(\"Original integer still:\", original_int)\n",
    "# Demonstrate immutable types with tuples\n",
    "my_tuple = (1, 2, 3)\n",
    "print(\"\\nTuple operations:\")\n",
    "print(\"Original tuple:\", my_tuple)\n",
    "new_tuple = my_tuple + (4,)  # Creates new tuple\n",
    "print(\"New tuple:\", new_tuple)\n",
    "print(\"Original tuple unchanged:\", my_tuple)\n",
    "\n",
    "# String immutability\n",
    "name = \"nischal\"\n",
    "print(\"\\nString operations:\")\n",
    "upper_name = name.upper()  # Creates new string\n",
    "print(f\"Original: {name}\")\n",
    "print(f\"New: {upper_name}\")"
   ]
  },
  {
   "cell_type": "markdown",
   "metadata": {},
   "source": [
    "### Q10. Write a simple program utilizing all the concepts you learned from chapter 1. "
   ]
  },
  {
   "cell_type": "code",
   "execution_count": 12,
   "metadata": {},
   "outputs": [
    {
     "name": "stdout",
     "output_type": "stream",
     "text": [
      "Welcome to nischal's Student Management System\n",
      "Number of students: 2\n",
      "Average age: 20.5\n",
      "Average grade: 79.86363636363635\n",
      "Available materials: ['updated', 34, 'Hover', 3.4, 'textbooks', 'notebooks']\n",
      "System maintained by: Nischal Neupane\n"
     ]
    }
   ],
   "source": [
    "# Write your code here.\n",
    "# Create a student management system using different data types and operations\n",
    "\n",
    "# Create a list of students using existing and new data\n",
    "students = [\n",
    "    {\"name\": person[\"name\"], \"age\": person[\"age\"], \"grade\": 85.5},\n",
    "    {\"name\": \"Alice Smith\", \"age\": 21, \"grade\": 90.2},\n",
    "]\n",
    "\n",
    "# Demonstrate arithmetic operations\n",
    "average_age = (students[0][\"age\"] + students[1][\"age\"]) / 2\n",
    "average_grade = (students[0][\"grade\"] + students[1][\"grade\"]) / num2  # using existing num2\n",
    "\n",
    "# Demonstrate string operations using existing variables\n",
    "welcome_message = f\"Welcome to {a}'s Student Management System\"\n",
    "\n",
    "# Demonstrate list operations using existing lst\n",
    "course_materials = lst + [\"textbooks\", \"notebooks\"]\n",
    "\n",
    "# Print results\n",
    "print(welcome_message)\n",
    "print(f\"Number of students: {len(students)}\")\n",
    "print(f\"Average age: {average_age}\")\n",
    "print(f\"Average grade: {average_grade}\")\n",
    "print(f\"Available materials: {course_materials}\")\n",
    "print(f\"System maintained by: {person['name']}\")"
   ]
  },
  {
   "cell_type": "markdown",
   "metadata": {},
   "source": [
    "# **Thank You !!!**"
   ]
  },
  {
   "cell_type": "markdown",
   "metadata": {},
   "source": []
  }
 ],
 "metadata": {
  "kernelspec": {
   "display_name": ".venv",
   "language": "python",
   "name": "python3"
  },
  "language_info": {
   "codemirror_mode": {
    "name": "ipython",
    "version": 3
   },
   "file_extension": ".py",
   "mimetype": "text/x-python",
   "name": "python",
   "nbconvert_exporter": "python",
   "pygments_lexer": "ipython3",
   "version": "3.12.3"
  }
 },
 "nbformat": 4,
 "nbformat_minor": 2
}
