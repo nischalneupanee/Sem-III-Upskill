{
 "cells": [
  {
   "cell_type": "markdown",
   "metadata": {
    "id": "0lhZuwTzS3pN"
   },
   "source": [
    "### Utilize all the concepts you learned from chapter 1 and 2.\n",
    "### Feel free to edit and add the tasks."
   ]
  },
  {
   "cell_type": "markdown",
   "metadata": {
    "id": "dlh01mQxS3pO"
   },
   "source": [
    "#### Q1. Write a program that checks if a number is positive, negative, or zero and prints the result.\n"
   ]
  },
  {
   "cell_type": "code",
   "execution_count": 1,
   "metadata": {
    "id": "-VTyMNXxS3pO"
   },
   "outputs": [
    {
     "name": "stdout",
     "output_type": "stream",
     "text": [
      "45 is positive\n"
     ]
    }
   ],
   "source": [
    "# Write your code here.\n",
    "num = int(input(\"Enter a number: \"))\n",
    "if num > 0:\n",
    "    print(f\"{num} is positive\")\n",
    "\n",
    "elif num <0:\n",
    "    print(f\"{num} is negative\")\n",
    "\n",
    "else:\n",
    "    print(f\"{num} is zero\")"
   ]
  },
  {
   "cell_type": "markdown",
   "metadata": {
    "id": "HVPNKXuvS3pP"
   },
   "source": [
    "### Q2. Write a program that prints the first 10 numbers in the Fibonacci sequence.\n"
   ]
  },
  {
   "cell_type": "code",
   "execution_count": 2,
   "metadata": {
    "id": "r7EXiUlNS3pQ"
   },
   "outputs": [
    {
     "name": "stdout",
     "output_type": "stream",
     "text": [
      "0\t1\t1\t2\t3\t5\t8\t13\t21\t34\t"
     ]
    }
   ],
   "source": [
    "# Write your code here.\n",
    "def fibbo(n):\n",
    "    if(n == 1 or n == 0):\n",
    "        return n\n",
    "    else: return fibbo(n-1)+ fibbo(n-2)\n",
    "\n",
    "num = 10\n",
    "for i in range(num):\n",
    "    print(f\"{fibbo(i)}\",end=\"\\t\")\n",
    "\n"
   ]
  },
  {
   "cell_type": "code",
   "execution_count": 1,
   "metadata": {},
   "outputs": [
    {
     "name": "stdout",
     "output_type": "stream",
     "text": [
      "[0, 1, 1, 2, 3, 5, 8, 13, 21, 34]\n"
     ]
    }
   ],
   "source": [
    "def fibonacci(n):\n",
    "    a, b = 0, 1\n",
    "    result = []\n",
    "    for _ in range(n):\n",
    "        result.append(a)\n",
    "        a, b = b, a + b\n",
    "    return result\n",
    "\n",
    "print(fibonacci(10))\n"
   ]
  },
  {
   "cell_type": "markdown",
   "metadata": {
    "id": "615kABcgS3pQ"
   },
   "source": [
    "### Q3. Write a function that takes a list of numbers and returns the sum of the even numbers in the list.\n"
   ]
  },
  {
   "cell_type": "code",
   "execution_count": 4,
   "metadata": {
    "id": "hQuEo0VsS3pQ"
   },
   "outputs": [
    {
     "name": "stdout",
     "output_type": "stream",
     "text": [
      "Sum of the even numbers in list is: 12\n"
     ]
    }
   ],
   "source": [
    "# Write your code here.\n",
    "def get_even(elst):\n",
    "    sum = 0\n",
    "    for i in elst:\n",
    "        if i % 2 == 0:\n",
    "            sum += i\n",
    "    \n",
    "    print(f\"Sum of the even numbers in list is: {sum}\")\n",
    "\n",
    "elst = [2,3,4,5,6,7]\n",
    "\n",
    "get_even(elst)\n",
    "\n"
   ]
  },
  {
   "cell_type": "markdown",
   "metadata": {
    "id": "DT3IRru7S3pR"
   },
   "source": [
    "### Q4. Write a lambda function that takes two arguments and returns their product.\n"
   ]
  },
  {
   "cell_type": "code",
   "execution_count": 7,
   "metadata": {
    "id": "KpuZnqbzS3pR"
   },
   "outputs": [
    {
     "name": "stdout",
     "output_type": "stream",
     "text": [
      "12\n"
     ]
    }
   ],
   "source": [
    "# Write your code here.\n",
    "product = lambda a,b: a*b\n",
    "print(product(3,4))"
   ]
  },
  {
   "cell_type": "markdown",
   "metadata": {
    "id": "mRvjJJrXS3pS"
   },
   "source": [
    "### Q5. Write a program that demonstrates the difference between local and global variables.\n"
   ]
  },
  {
   "cell_type": "code",
   "execution_count": 22,
   "metadata": {
    "id": "mXoEMqqtS3pS"
   },
   "outputs": [
    {
     "name": "stdout",
     "output_type": "stream",
     "text": [
      "30\n",
      "34\n"
     ]
    }
   ],
   "source": [
    "# Write your code here.\n",
    "x = 30 \n",
    "def get_num():\n",
    "    x = 34\n",
    "    print(x)\n",
    "def main():\n",
    "    print(x)\n",
    "    get_num() \n",
    "\n",
    "\n",
    "if __name__ == \"__main__\":\n",
    "    main()\n"
   ]
  },
  {
   "cell_type": "markdown",
   "metadata": {
    "id": "9dFyymfYS3pS"
   },
   "source": [
    "### Q6. Complete the following function to calculate the factorial of a number using recursion.\n"
   ]
  },
  {
   "cell_type": "code",
   "execution_count": 8,
   "metadata": {
    "id": "ngjCZbuDS3pT"
   },
   "outputs": [
    {
     "data": {
      "text/plain": [
       "120"
      ]
     },
     "execution_count": 8,
     "metadata": {},
     "output_type": "execute_result"
    }
   ],
   "source": [
    "def factorial(n):\n",
    "    if n == 0:\n",
    "        return 1\n",
    "    else:\n",
    "        return n*factorial(n-1)\n",
    "\n",
    "\n",
    "factorial(5)"
   ]
  },
  {
   "cell_type": "markdown",
   "metadata": {
    "id": "wXjT5wBCS3pT"
   },
   "source": [
    "### Q7. Write a program that prints numbers from 1 to 10, but skips the number 5 using continue and stops the loop if the number is 8 using break.\n"
   ]
  },
  {
   "cell_type": "code",
   "execution_count": 2,
   "metadata": {
    "id": "h9DBaAH8S3pT"
   },
   "outputs": [
    {
     "name": "stdout",
     "output_type": "stream",
     "text": [
      "0\n",
      "1\n",
      "2\n",
      "3\n",
      "4\n",
      "6\n",
      "7\n",
      "8\n",
      "9\n",
      "10\n"
     ]
    }
   ],
   "source": [
    "# Write your code here.\n",
    "for i in range(11):\n",
    "    if i == 5:\n",
    "        continue\n",
    "    print(i)"
   ]
  },
  {
   "cell_type": "markdown",
   "metadata": {
    "id": "0JYtkM6SS3pT"
   },
   "source": [
    "### Q8. Write a program that prints a multiplication table for numbers from 1 to 5. [ Using nested loop ]\n"
   ]
  },
  {
   "cell_type": "code",
   "execution_count": 6,
   "metadata": {
    "id": "xB4WeKdbS3pT"
   },
   "outputs": [
    {
     "name": "stdout",
     "output_type": "stream",
     "text": [
      "1 * 1 = 1\n",
      "\n",
      "1 * 2 = 2\n",
      "\n",
      "1 * 3 = 3\n",
      "\n",
      "1 * 4 = 4\n",
      "\n",
      "1 * 5 = 5\n",
      "\n",
      "1 * 6 = 6\n",
      "\n",
      "1 * 7 = 7\n",
      "\n",
      "1 * 8 = 8\n",
      "\n",
      "1 * 9 = 9\n",
      "\n",
      "1 * 10 = 10\n",
      "\n",
      "2 * 1 = 2\n",
      "\n",
      "2 * 2 = 4\n",
      "\n",
      "2 * 3 = 6\n",
      "\n",
      "2 * 4 = 8\n",
      "\n",
      "2 * 5 = 10\n",
      "\n",
      "2 * 6 = 12\n",
      "\n",
      "2 * 7 = 14\n",
      "\n",
      "2 * 8 = 16\n",
      "\n",
      "2 * 9 = 18\n",
      "\n",
      "2 * 10 = 20\n",
      "\n",
      "3 * 1 = 3\n",
      "\n",
      "3 * 2 = 6\n",
      "\n",
      "3 * 3 = 9\n",
      "\n",
      "3 * 4 = 12\n",
      "\n",
      "3 * 5 = 15\n",
      "\n",
      "3 * 6 = 18\n",
      "\n",
      "3 * 7 = 21\n",
      "\n",
      "3 * 8 = 24\n",
      "\n",
      "3 * 9 = 27\n",
      "\n",
      "3 * 10 = 30\n",
      "\n",
      "4 * 1 = 4\n",
      "\n",
      "4 * 2 = 8\n",
      "\n",
      "4 * 3 = 12\n",
      "\n",
      "4 * 4 = 16\n",
      "\n",
      "4 * 5 = 20\n",
      "\n",
      "4 * 6 = 24\n",
      "\n",
      "4 * 7 = 28\n",
      "\n",
      "4 * 8 = 32\n",
      "\n",
      "4 * 9 = 36\n",
      "\n",
      "4 * 10 = 40\n",
      "\n",
      "5 * 1 = 5\n",
      "\n",
      "5 * 2 = 10\n",
      "\n",
      "5 * 3 = 15\n",
      "\n",
      "5 * 4 = 20\n",
      "\n",
      "5 * 5 = 25\n",
      "\n",
      "5 * 6 = 30\n",
      "\n",
      "5 * 7 = 35\n",
      "\n",
      "5 * 8 = 40\n",
      "\n",
      "5 * 9 = 45\n",
      "\n",
      "5 * 10 = 50\n",
      "\n"
     ]
    }
   ],
   "source": [
    "# Write your code here.\n",
    "for i in range (1,6):\n",
    "    for j in range (1,11):\n",
    "        print(f\"{i} * {j} = {i*j}\\n\")"
   ]
  },
  {
   "cell_type": "markdown",
   "metadata": {
    "id": "26Zzh9AVS3pU"
   },
   "source": [
    "### Q9. Write a list comprehension that generates a list of squares of numbers from 1 to 10.\n"
   ]
  },
  {
   "cell_type": "code",
   "execution_count": 7,
   "metadata": {
    "executionInfo": {
     "elapsed": 1176,
     "status": "ok",
     "timestamp": 1738577589891,
     "user": {
      "displayName": "Sujan Sharma",
      "userId": "04165460406084711982"
     },
     "user_tz": -345
    },
    "id": "1YJIWixjTE7m"
   },
   "outputs": [
    {
     "data": {
      "text/plain": [
       "[1, 4, 9, 16, 25, 36, 49, 64, 81, 100]"
      ]
     },
     "execution_count": 7,
     "metadata": {},
     "output_type": "execute_result"
    }
   ],
   "source": [
    "# Write your code here.\n",
    "lst = [1,2,3,4,5,6,7,8,9,10]\n",
    "\n",
    "lst2 = [x**2 for x in lst]\n",
    "lst2"
   ]
  },
  {
   "cell_type": "markdown",
   "metadata": {
    "id": "Xco6EoeqS3pU"
   },
   "source": [
    "\n",
    "### Q10. Create a dictionary with at least 5 key-value pairs. Implement a search feature to find a value by its key. Use dictionary comprehension to create a new dictionary with keys and values swapped.\n",
    "\n"
   ]
  },
  {
   "cell_type": "code",
   "execution_count": null,
   "metadata": {
    "id": "6e9M7AxBS3pU",
    "outputId": "84bc14c0-65dd-4979-ef3e-05d326143e80"
   },
   "outputs": [
    {
     "name": "stdout",
     "output_type": "stream",
     "text": [
      "2\n",
      "{1: 'apple', 2: 'banana', 3: 'cherry', 4: 'date', 5: 'mango'}\n"
     ]
    }
   ],
   "source": [
    "\n",
    "my_dict = {\n",
    "    'apple': 1,\n",
    "    'banana': 2,\n",
    "    'cherry': 3,\n",
    "    'date': 4,\n",
    "    'mango': 5\n",
    "}\n",
    "\n",
    "def search_dict(key):\n",
    "    value = my_dict.get(key)\n",
    "    return value\n",
    "\n",
    "# search feature\n",
    "print(search_dict('banana'))\n",
    "print(search_dict('fig'))\n",
    "\n",
    "# Use dictionary comprehension to create a new dictionary with keys and values swapped\n",
    "swapped_dict = {value: key for key, value in my_dict.items()}\n",
    "print(swapped_dict)"
   ]
  },
  {
   "cell_type": "markdown",
   "metadata": {
    "id": "YzcJSVNPS3pV"
   },
   "source": [
    "### Q11. Create a program, (use conditional statements, functions, list, dictionary, loops,etc) to make a  simple hangman game. ( You can introduce your own ideas, and expand the program )"
   ]
  },
  {
   "cell_type": "code",
   "execution_count": null,
   "metadata": {
    "id": "2YfNdBvCS3pV"
   },
   "outputs": [],
   "source": [
    "import random\n",
    "\n",
    "def play(): \n",
    "    r_score =[] # Saves the score of every round\n",
    "    round = 0\n",
    "    while True:\n",
    "        try:\n",
    "            level = input(\"Enter level (1-easy 2- medium 3-hard) ->\\t\")\n",
    "            if level in ['1','2','3']:\n",
    "                break\n",
    "            else:\n",
    "                raise  ValueError\n",
    "        except ValueError:\n",
    "            print(\"Invalid level. Please enter 1, 2, or 3\")\n",
    "\n",
    "    while True:\n",
    "        word = gword(level)   \n",
    "        final = [\"0\"] * len(word) #list to append the correct letters\n",
    "        n = len(word)\n",
    "        chances = 6\n",
    "        round +=1\n",
    "\n",
    "        print(f\"Round -> {round}\")\n",
    "\n",
    "        while (n>0):\n",
    "            try:\n",
    "                inp = input(\"Enter the letter -> \").lower()\n",
    "\n",
    "                if not inp.isalpha() or len(inp) != 1:\n",
    "                    raise ValueError(\"Invalid input. Please enter a single letter from a to z.\")\n",
    "                if (chances>0 and n>0):\n",
    "                    if inp in word:\n",
    "                        final[word.index(inp)] = inp \n",
    "                        print(final)\n",
    "                        word[word.index(inp)] = 0\n",
    "                        print(f\"Correct!! chances -> {chances}\")\n",
    "                        n-=1\n",
    "\n",
    "                    else:\n",
    "                        chances -=1\n",
    "                        print(f\"Incorrect!! chances -> {chances}\") \n",
    "                else:\n",
    "                    break\n",
    "                \n",
    "            except ValueError as e:\n",
    "                print(e)\n",
    "                continue\n",
    "            print(n)\n",
    "            \n",
    "        if chances > 0:\n",
    "            print(\"you won\")\n",
    "            r_score.append(chances)\n",
    "\n",
    "        else:\n",
    "            print(\"you lost\")\n",
    "            break \n",
    "        \n",
    "        choice   = input(\"e - exit || any to continue next\")\n",
    "        if choice == 'e':\n",
    "            break \n",
    "    \n",
    "    gscore(r_score)\n",
    "\n",
    "def gword(level):\n",
    "    words = {\n",
    "        '1': [\"cat\", \"dog\", \"rat\", \"pig\"],\n",
    "        '2': [\"apple\", \"plane\", \"train\", \"house\"],\n",
    "        '3': [\"elephant\", \"computer\", \"building\", \"mountain\"]\n",
    "    }\n",
    "    return list(random.choice(words.get(str(level), words['1'])))\n",
    "\n",
    "def gscore(r_score):\n",
    "    sc_list = {1:5000,2:10000,3:15000,4:20000,5:25000,6:30000}\n",
    "    score = 0\n",
    "    for i in r_score:\n",
    "        score += sc_list[i]\n",
    "    print(f\"Your Score is {score}\")\n",
    "\n",
    "def seescore():\n",
    "    pass\n",
    "\n",
    "def main():\n",
    "    print(\"\\n\\t\\t\\t\\t\\tWelcome to Hangman Game\")\n",
    "    while True:\n",
    "        try:\n",
    "            choose = input(\"Enter P - Play | S - See Score -> \\t\").upper()\n",
    "\n",
    "            if choose == \"P\" or choose == \"S\":\n",
    "                break\n",
    "\n",
    "            else:\n",
    "                raise ValueError\n",
    "        except:\n",
    "            print(\"Invalid input!!! Enter P or S\")\n",
    "\n",
    "\n",
    "    if choose =='P':\n",
    "        play()\n",
    "    else:\n",
    "        seescore()\n",
    "\n",
    "\n",
    "if __name__ == \"__main__\":\n",
    "    main()"
   ]
  },
  {
   "cell_type": "code",
   "execution_count": 2,
   "metadata": {},
   "outputs": [
    {
     "name": "stdout",
     "output_type": "stream",
     "text": [
      "5\n"
     ]
    }
   ],
   "source": [
    "x=10\n",
    "def func():\n",
    "    x = 5\n",
    "    def inner():\n",
    "        print(x)\n",
    "    inner()\n",
    "func()"
   ]
  }
 ],
 "metadata": {
  "colab": {
   "provenance": []
  },
  "kernelspec": {
   "display_name": ".venv",
   "language": "python",
   "name": "python3"
  },
  "language_info": {
   "codemirror_mode": {
    "name": "ipython",
    "version": 3
   },
   "file_extension": ".py",
   "mimetype": "text/x-python",
   "name": "python",
   "nbconvert_exporter": "python",
   "pygments_lexer": "ipython3",
   "version": "3.12.3"
  }
 },
 "nbformat": 4,
 "nbformat_minor": 0
}
